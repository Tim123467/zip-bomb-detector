{
  "nbformat": 4,
  "nbformat_minor": 0,
  "metadata": {
    "colab": {
      "provenance": []
    },
    "kernelspec": {
      "name": "python3",
      "display_name": "Python 3"
    },
    "language_info": {
      "name": "python"
    }
  },
  "cells": [
    {
      "cell_type": "code",
      "execution_count": 1,
      "metadata": {
        "id": "h4izrWiIuUAM",
        "colab": {
          "base_uri": "https://localhost:8080/"
        },
        "outputId": "492c9214-19ea-4634-f2bb-3cb245543d7d"
      },
      "outputs": [
        {
          "output_type": "stream",
          "name": "stdout",
          "text": [
            "Mounted at /content/gdrive\n"
          ]
        }
      ],
      "source": [
        "from zipfile import ZipFile, BadZipFile\n",
        "from google.colab import drive\n",
        "\n",
        "drive.mount('/content/gdrive')"
      ]
    },
    {
      "cell_type": "code",
      "source": [
        "def process(fileName: str) -> int:\n",
        "    totalSize = 0\n",
        "    try:\n",
        "        with ZipFile(fileName, 'r') as zip_object:\n",
        "            zip_object.extractall()\n",
        "            for file in zip_object.infolist():\n",
        "                totalSize += file.file_size\n",
        "                if file.filename.endswith('zip'):\n",
        "                    totalSize += process(file.filename)\n",
        "    except BadZipFile:\n",
        "        pass\n",
        "    return totalSize\n",
        "totalSize = process('/content/gdrive/MyDrive/Colab Notebooks/Zip Bomb Detection/test.zip')\n",
        "output = ''\n",
        "for i in range(len(str(totalSize))):\n",
        "    output = str(totalSize)[len(str(totalSize))-i-1] + output\n",
        "    if i % 3 == 2 and i != len(str(totalSize))-1:\n",
        "        output = ',' + output\n",
        "print(output)"
      ],
      "metadata": {
        "colab": {
          "base_uri": "https://localhost:8080/"
        },
        "id": "NZiL2Z7zuiuB",
        "outputId": "19f5c1e2-32f3-4d0c-ca57-b836e8c8b437"
      },
      "execution_count": 2,
      "outputs": [
        {
          "output_type": "stream",
          "name": "stdout",
          "text": [
            "47,388,425\n"
          ]
        }
      ]
    }
  ]
}
